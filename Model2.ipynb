{
 "cells": [
  {
   "cell_type": "markdown",
   "id": "688ac9f5",
   "metadata": {},
   "source": [
    "# Breast Cancer Classification Models\n",
    "This notebook trains and compares three models—CNN, Vision Transformer (ViT), and Swin Transformer—for binary classification on breast histology images, and evaluates them using various metrics."
   ]
  },
  {
   "cell_type": "code",
   "execution_count": 9,
   "id": "95fe5079",
   "metadata": {},
   "outputs": [],
   "source": [
    "import os\n",
    "import warnings\n",
    "import tensorflow as tf\n",
    "from tensorflow.keras import layers\n",
    "import matplotlib.pyplot as plt\n",
    "import numpy as np\n",
    "from sklearn.metrics import classification_report, confusion_matrix, roc_auc_score, roc_curve"
   ]
  },
  {
   "cell_type": "code",
   "execution_count": 10,
   "id": "5086d04a",
   "metadata": {},
   "outputs": [],
   "source": [
    "# Suppress warnings and logs\n",
    "os.environ['TF_CPP_MIN_LOG_LEVEL'] = '2'\n",
    "warnings.filterwarnings('ignore')\n",
    "\n",
    "# Enable GPU memory growth\n",
    "gpus = tf.config.list_physical_devices('GPU')\n",
    "if gpus:\n",
    "    try:\n",
    "        for gpu in gpus:\n",
    "            tf.config.experimental.set_memory_growth(gpu, True)\n",
    "        print(\"GPU memory growth enabled.\")\n",
    "    except RuntimeError as e:\n",
    "        print(e)"
   ]
  },
  {
   "cell_type": "markdown",
   "id": "3f82695f",
   "metadata": {},
   "source": [
    "## Data Loading and Preprocessing"
   ]
  },
  {
   "cell_type": "code",
   "execution_count": 11,
   "id": "5b318fb7",
   "metadata": {},
   "outputs": [
    {
     "name": "stdout",
     "output_type": "stream",
     "text": [
      "Found 6327 files belonging to 2 classes.\n",
      "Found 2383 files belonging to 2 classes.\n"
     ]
    }
   ],
   "source": [
    "train_dir = r\"C:\\Users\\NITIN SINGH\\Downloads\\BreaKHis_v1\\BreaKHis_v1\\histology_slides\\breast\\train\"\n",
    "val_dir = r\"C:\\Users\\NITIN SINGH\\Downloads\\BreaKHis_v1\\BreaKHis_v1\\histology_slides\\breast\\validation\"\n",
    "\n",
    "IMG_SIZE = (224, 224)\n",
    "BATCH_SIZE = 16\n",
    "EPOCHS = 10\n",
    "\n",
    "train_ds = tf.keras.preprocessing.image_dataset_from_directory(\n",
    "    train_dir, labels='inferred', label_mode='binary',\n",
    "    batch_size=BATCH_SIZE, image_size=IMG_SIZE, shuffle=True)\n",
    "\n",
    "val_ds = tf.keras.preprocessing.image_dataset_from_directory(\n",
    "    val_dir, labels='inferred', label_mode='binary',\n",
    "    batch_size=BATCH_SIZE, image_size=IMG_SIZE, shuffle=False)\n",
    "\n",
    "# Normalize\n",
    "normalization_layer = layers.Rescaling(1./255)\n",
    "train_ds = train_ds.map(lambda x, y: (normalization_layer(x), y))\n",
    "val_ds = val_ds.map(lambda x, y: (normalization_layer(x), y))"
   ]
  },
  {
   "cell_type": "markdown",
   "id": "b70dbd8f",
   "metadata": {},
   "source": [
    "## Model Definitions"
   ]
  },
  {
   "cell_type": "markdown",
   "id": "3f9bc0a8",
   "metadata": {},
   "source": [
    "### CNN"
   ]
  },
  {
   "cell_type": "code",
   "execution_count": 12,
   "id": "988e4029",
   "metadata": {},
   "outputs": [],
   "source": [
    "def create_cnn_model(input_shape):\n",
    "    model = tf.keras.Sequential([\n",
    "        tf.keras.Input(shape=input_shape),\n",
    "        layers.Conv2D(32, (3,3), activation='relu'),\n",
    "        layers.MaxPooling2D(),\n",
    "        layers.Conv2D(64, (3,3), activation='relu'),\n",
    "        layers.MaxPooling2D(),\n",
    "        layers.Conv2D(128, (3,3), activation='relu'),\n",
    "        layers.MaxPooling2D(),\n",
    "        layers.Flatten(),\n",
    "        layers.Dense(64, activation='relu'),\n",
    "        layers.Dense(1, activation='sigmoid')\n",
    "    ])\n",
    "    model.compile(optimizer='adam',\n",
    "                  loss='binary_crossentropy',\n",
    "                  metrics=['accuracy'])\n",
    "    return model"
   ]
  },
  {
   "cell_type": "markdown",
   "id": "2044f4be",
   "metadata": {},
   "source": [
    "### Vision Transformer (ViT)"
   ]
  },
  {
   "cell_type": "code",
   "execution_count": 13,
   "id": "a0f06301",
   "metadata": {},
   "outputs": [],
   "source": [
    "class PatchEmbedding(layers.Layer):\n",
    "    def __init__(self, patch_size, embed_dim):\n",
    "        super(PatchEmbedding, self).__init__()\n",
    "        self.patch_size = patch_size\n",
    "        self.embed_dim = embed_dim\n",
    "        self.projection = layers.Dense(embed_dim)\n",
    "\n",
    "    def call(self, images):\n",
    "        batch_size = tf.shape(images)[0]\n",
    "        patches = tf.image.extract_patches(\n",
    "            images=images,\n",
    "            sizes=[1, self.patch_size, self.patch_size, 1],\n",
    "            strides=[1, self.patch_size, self.patch_size, 1],\n",
    "            rates=[1, 1, 1, 1],\n",
    "            padding='VALID'\n",
    "        )\n",
    "        patches = tf.reshape(patches, [batch_size, -1, patches.shape[-1]])\n",
    "        return self.projection(patches)\n",
    "\n",
    "def transformer_block(inputs, embed_dim, num_heads, ff_dim, dropout=0.1):\n",
    "    x = layers.LayerNormalization(epsilon=1e-6)(inputs)\n",
    "    attention_output = layers.MultiHeadAttention(num_heads=num_heads, key_dim=embed_dim)(x, x)\n",
    "    x = layers.Add()([attention_output, inputs])\n",
    "    y = layers.LayerNormalization(epsilon=1e-6)(x)\n",
    "    y = layers.Dense(ff_dim, activation='relu')(y)\n",
    "    y = layers.Dense(embed_dim)(y)\n",
    "    return layers.Add()([x, y])\n",
    "\n",
    "def create_vit_model(image_size, patch_size, embed_dim, num_heads, ff_dim, num_layers):\n",
    "    inp = layers.Input(shape=image_size + (3,))\n",
    "    x = PatchEmbedding(patch_size, embed_dim)(inp)\n",
    "    for _ in range(num_layers):\n",
    "        x = transformer_block(x, embed_dim, num_heads, ff_dim)\n",
    "    x = layers.GlobalAveragePooling1D()(x)\n",
    "    x = layers.Dense(64, activation='relu')(x)\n",
    "    out = layers.Dense(1, activation='sigmoid')(x)\n",
    "    model = tf.keras.Model(inputs=inp, outputs=out)\n",
    "    model.compile(optimizer='adam', loss='binary_crossentropy', metrics=['accuracy'])\n",
    "    return model"
   ]
  },
  {
   "cell_type": "markdown",
   "id": "b0941f01",
   "metadata": {},
   "source": [
    "### Swin Transformer"
   ]
  },
  {
   "cell_type": "code",
   "execution_count": 14,
   "id": "780c4b2f",
   "metadata": {},
   "outputs": [],
   "source": [
    "class SwinTransformerBlock(layers.Layer):\n",
    "    def __init__(self, embed_dim, num_heads, window_size, shift_size=0, ff_dim=128, dropout=0.1):\n",
    "        super(SwinTransformerBlock, self).__init__()\n",
    "        self.norm1 = layers.LayerNormalization(epsilon=1e-6)\n",
    "        self.attn = layers.MultiHeadAttention(num_heads=num_heads, key_dim=embed_dim)\n",
    "        self.norm2 = layers.LayerNormalization(epsilon=1e-6)\n",
    "        self.ffn = tf.keras.Sequential([\n",
    "            layers.Dense(ff_dim, activation='relu'),\n",
    "            layers.Dense(embed_dim),\n",
    "        ])\n",
    "        self.dropout = layers.Dropout(dropout)\n",
    "        self.window_size = window_size\n",
    "        self.shift_size = shift_size\n",
    "\n",
    "    def call(self, x):\n",
    "        shortcut = x\n",
    "        x_norm = self.norm1(x)\n",
    "        B, H, W, C = tf.shape(x_norm)[0], tf.shape(x_norm)[1], tf.shape(x_norm)[2], tf.shape(x_norm)[3]\n",
    "        x_flat = tf.reshape(x_norm, [B, H*W, C])\n",
    "        attn_out = self.attn(x_flat, x_flat)\n",
    "        attn_out = tf.reshape(attn_out, [B, H, W, C])\n",
    "        x = shortcut + self.dropout(attn_out)\n",
    "        x2 = self.norm2(x)\n",
    "        ffn_out = self.ffn(x2)\n",
    "        return x + self.dropout(ffn_out)\n",
    "\n",
    "def create_swin_model(image_size, patch_size, embed_dim, window_size, num_blocks):\n",
    "    inp = layers.Input(shape=image_size + (3,))\n",
    "    x = layers.Conv2D(embed_dim, kernel_size=patch_size, strides=patch_size)(inp)\n",
    "    for _ in range(num_blocks):\n",
    "        x = SwinTransformerBlock(embed_dim, num_heads=4, window_size=window_size)(x)\n",
    "    x = layers.GlobalAveragePooling2D()(x)\n",
    "    x = layers.Dense(64, activation='relu')(x)\n",
    "    out = layers.Dense(1, activation='sigmoid')(x)\n",
    "    model = tf.keras.Model(inputs=inp, outputs=out)\n",
    "    model.compile(optimizer='adam', loss='binary_crossentropy', metrics=['accuracy'])\n",
    "    return model"
   ]
  },
  {
   "cell_type": "markdown",
   "id": "b46c0f81",
   "metadata": {},
   "source": [
    "## Model Training"
   ]
  },
  {
   "cell_type": "code",
   "execution_count": 15,
   "id": "4f738b3b",
   "metadata": {},
   "outputs": [
    {
     "name": "stdout",
     "output_type": "stream",
     "text": [
      "Training CNN...\n",
      "Epoch 1/10\n",
      "\u001b[1m396/396\u001b[0m \u001b[32m━━━━━━━━━━━━━━━━━━━━\u001b[0m\u001b[37m\u001b[0m \u001b[1m181s\u001b[0m 453ms/step - accuracy: 0.7391 - loss: 0.5952 - val_accuracy: 0.6840 - val_loss: 0.5795\n",
      "Epoch 2/10\n",
      "\u001b[1m396/396\u001b[0m \u001b[32m━━━━━━━━━━━━━━━━━━━━\u001b[0m\u001b[37m\u001b[0m \u001b[1m101s\u001b[0m 254ms/step - accuracy: 0.7722 - loss: 0.5124 - val_accuracy: 0.7272 - val_loss: 0.5774\n",
      "Epoch 3/10\n",
      "\u001b[1m396/396\u001b[0m \u001b[32m━━━━━━━━━━━━━━━━━━━━\u001b[0m\u001b[37m\u001b[0m \u001b[1m105s\u001b[0m 263ms/step - accuracy: 0.8284 - loss: 0.4368 - val_accuracy: 0.8431 - val_loss: 0.3948\n",
      "Epoch 4/10\n",
      "\u001b[1m396/396\u001b[0m \u001b[32m━━━━━━━━━━━━━━━━━━━━\u001b[0m\u001b[37m\u001b[0m \u001b[1m183s\u001b[0m 461ms/step - accuracy: 0.8426 - loss: 0.4092 - val_accuracy: 0.8582 - val_loss: 0.3740\n",
      "Epoch 5/10\n",
      "\u001b[1m396/396\u001b[0m \u001b[32m━━━━━━━━━━━━━━━━━━━━\u001b[0m\u001b[37m\u001b[0m \u001b[1m105s\u001b[0m 264ms/step - accuracy: 0.8490 - loss: 0.4006 - val_accuracy: 0.8598 - val_loss: 0.3639\n",
      "Epoch 6/10\n",
      "\u001b[1m396/396\u001b[0m \u001b[32m━━━━━━━━━━━━━━━━━━━━\u001b[0m\u001b[37m\u001b[0m \u001b[1m346s\u001b[0m 875ms/step - accuracy: 0.8523 - loss: 0.3837 - val_accuracy: 0.8531 - val_loss: 0.3760\n",
      "Epoch 7/10\n",
      "\u001b[1m396/396\u001b[0m \u001b[32m━━━━━━━━━━━━━━━━━━━━\u001b[0m\u001b[37m\u001b[0m \u001b[1m117s\u001b[0m 293ms/step - accuracy: 0.8396 - loss: 0.4063 - val_accuracy: 0.6433 - val_loss: 0.7187\n",
      "Epoch 8/10\n",
      "\u001b[1m396/396\u001b[0m \u001b[32m━━━━━━━━━━━━━━━━━━━━\u001b[0m\u001b[37m\u001b[0m \u001b[1m107s\u001b[0m 270ms/step - accuracy: 0.8409 - loss: 0.4094 - val_accuracy: 0.8049 - val_loss: 0.4427\n",
      "Epoch 9/10\n",
      "\u001b[1m396/396\u001b[0m \u001b[32m━━━━━━━━━━━━━━━━━━━━\u001b[0m\u001b[37m\u001b[0m \u001b[1m105s\u001b[0m 265ms/step - accuracy: 0.8485 - loss: 0.3782 - val_accuracy: 0.8552 - val_loss: 0.3681\n",
      "Epoch 10/10\n",
      "\u001b[1m396/396\u001b[0m \u001b[32m━━━━━━━━━━━━━━━━━━━━\u001b[0m\u001b[37m\u001b[0m \u001b[1m168s\u001b[0m 425ms/step - accuracy: 0.8639 - loss: 0.3531 - val_accuracy: 0.8624 - val_loss: 0.3722\n",
      "Training ViT...\n",
      "WARNING:tensorflow:From C:\\Users\\NITIN SINGH\\AppData\\Roaming\\Python\\Python312\\site-packages\\keras\\src\\backend\\tensorflow\\core.py:216: The name tf.placeholder is deprecated. Please use tf.compat.v1.placeholder instead.\n",
      "\n",
      "Epoch 1/10\n",
      "\u001b[1m396/396\u001b[0m \u001b[32m━━━━━━━━━━━━━━━━━━━━\u001b[0m\u001b[37m\u001b[0m \u001b[1m66s\u001b[0m 141ms/step - accuracy: 0.6792 - loss: 0.6565 - val_accuracy: 0.8254 - val_loss: 0.4617\n",
      "Epoch 2/10\n",
      "\u001b[1m396/396\u001b[0m \u001b[32m━━━━━━━━━━━━━━━━━━━━\u001b[0m\u001b[37m\u001b[0m \u001b[1m55s\u001b[0m 139ms/step - accuracy: 0.7994 - loss: 0.4715 - val_accuracy: 0.8384 - val_loss: 0.4044\n",
      "Epoch 3/10\n",
      "\u001b[1m396/396\u001b[0m \u001b[32m━━━━━━━━━━━━━━━━━━━━\u001b[0m\u001b[37m\u001b[0m \u001b[1m57s\u001b[0m 143ms/step - accuracy: 0.8291 - loss: 0.4368 - val_accuracy: 0.7558 - val_loss: 0.5159\n",
      "Epoch 4/10\n",
      "\u001b[1m396/396\u001b[0m \u001b[32m━━━━━━━━━━━━━━━━━━━━\u001b[0m\u001b[37m\u001b[0m \u001b[1m57s\u001b[0m 143ms/step - accuracy: 0.8375 - loss: 0.4043 - val_accuracy: 0.8716 - val_loss: 0.3431\n",
      "Epoch 5/10\n",
      "\u001b[1m396/396\u001b[0m \u001b[32m━━━━━━━━━━━━━━━━━━━━\u001b[0m\u001b[37m\u001b[0m \u001b[1m57s\u001b[0m 143ms/step - accuracy: 0.7936 - loss: 0.4765 - val_accuracy: 0.8796 - val_loss: 0.3359\n",
      "Epoch 6/10\n",
      "\u001b[1m396/396\u001b[0m \u001b[32m━━━━━━━━━━━━━━━━━━━━\u001b[0m\u001b[37m\u001b[0m \u001b[1m56s\u001b[0m 140ms/step - accuracy: 0.8416 - loss: 0.4153 - val_accuracy: 0.8330 - val_loss: 0.4011\n",
      "Epoch 7/10\n",
      "\u001b[1m396/396\u001b[0m \u001b[32m━━━━━━━━━━━━━━━━━━━━\u001b[0m\u001b[37m\u001b[0m \u001b[1m140s\u001b[0m 355ms/step - accuracy: 0.8413 - loss: 0.3983 - val_accuracy: 0.7545 - val_loss: 0.5415\n",
      "Epoch 8/10\n",
      "\u001b[1m396/396\u001b[0m \u001b[32m━━━━━━━━━━━━━━━━━━━━\u001b[0m\u001b[37m\u001b[0m \u001b[1m99s\u001b[0m 246ms/step - accuracy: 0.8517 - loss: 0.3855 - val_accuracy: 0.8829 - val_loss: 0.3216\n",
      "Epoch 9/10\n",
      "\u001b[1m396/396\u001b[0m \u001b[32m━━━━━━━━━━━━━━━━━━━━\u001b[0m\u001b[37m\u001b[0m \u001b[1m64s\u001b[0m 162ms/step - accuracy: 0.8542 - loss: 0.3865 - val_accuracy: 0.8678 - val_loss: 0.3335\n",
      "Epoch 10/10\n",
      "\u001b[1m396/396\u001b[0m \u001b[32m━━━━━━━━━━━━━━━━━━━━\u001b[0m\u001b[37m\u001b[0m \u001b[1m135s\u001b[0m 341ms/step - accuracy: 0.8745 - loss: 0.3305 - val_accuracy: 0.8561 - val_loss: 0.3400\n",
      "Training Swin...\n",
      "Epoch 1/10\n",
      "\u001b[1m396/396\u001b[0m \u001b[32m━━━━━━━━━━━━━━━━━━━━\u001b[0m\u001b[37m\u001b[0m \u001b[1m211s\u001b[0m 477ms/step - accuracy: 0.6763 - loss: 0.6463 - val_accuracy: 0.7533 - val_loss: 0.4846\n",
      "Epoch 2/10\n",
      "\u001b[1m396/396\u001b[0m \u001b[32m━━━━━━━━━━━━━━━━━━━━\u001b[0m\u001b[37m\u001b[0m \u001b[1m270s\u001b[0m 645ms/step - accuracy: 0.7798 - loss: 0.4922 - val_accuracy: 0.8124 - val_loss: 0.4393\n",
      "Epoch 3/10\n",
      "\u001b[1m396/396\u001b[0m \u001b[32m━━━━━━━━━━━━━━━━━━━━\u001b[0m\u001b[37m\u001b[0m \u001b[1m224s\u001b[0m 564ms/step - accuracy: 0.7976 - loss: 0.4843 - val_accuracy: 0.8556 - val_loss: 0.3932\n",
      "Epoch 4/10\n",
      "\u001b[1m396/396\u001b[0m \u001b[32m━━━━━━━━━━━━━━━━━━━━\u001b[0m\u001b[37m\u001b[0m \u001b[1m246s\u001b[0m 623ms/step - accuracy: 0.8306 - loss: 0.4281 - val_accuracy: 0.8582 - val_loss: 0.4035\n",
      "Epoch 5/10\n",
      "\u001b[1m396/396\u001b[0m \u001b[32m━━━━━━━━━━━━━━━━━━━━\u001b[0m\u001b[37m\u001b[0m \u001b[1m260s\u001b[0m 654ms/step - accuracy: 0.8284 - loss: 0.4505 - val_accuracy: 0.8741 - val_loss: 0.3429\n",
      "Epoch 6/10\n",
      "\u001b[1m396/396\u001b[0m \u001b[32m━━━━━━━━━━━━━━━━━━━━\u001b[0m\u001b[37m\u001b[0m \u001b[1m177s\u001b[0m 446ms/step - accuracy: 0.8446 - loss: 0.4040 - val_accuracy: 0.8783 - val_loss: 0.3405\n",
      "Epoch 7/10\n",
      "\u001b[1m396/396\u001b[0m \u001b[32m━━━━━━━━━━━━━━━━━━━━\u001b[0m\u001b[37m\u001b[0m \u001b[1m275s\u001b[0m 692ms/step - accuracy: 0.8548 - loss: 0.3735 - val_accuracy: 0.8573 - val_loss: 0.3855\n",
      "Epoch 8/10\n",
      "\u001b[1m396/396\u001b[0m \u001b[32m━━━━━━━━━━━━━━━━━━━━\u001b[0m\u001b[37m\u001b[0m \u001b[1m115s\u001b[0m 289ms/step - accuracy: 0.8572 - loss: 0.3741 - val_accuracy: 0.8787 - val_loss: 0.3254\n",
      "Epoch 9/10\n",
      "\u001b[1m396/396\u001b[0m \u001b[32m━━━━━━━━━━━━━━━━━━━━\u001b[0m\u001b[37m\u001b[0m \u001b[1m71s\u001b[0m 179ms/step - accuracy: 0.8531 - loss: 0.3854 - val_accuracy: 0.8791 - val_loss: 0.3372\n",
      "Epoch 10/10\n",
      "\u001b[1m396/396\u001b[0m \u001b[32m━━━━━━━━━━━━━━━━━━━━\u001b[0m\u001b[37m\u001b[0m \u001b[1m202s\u001b[0m 510ms/step - accuracy: 0.8591 - loss: 0.3621 - val_accuracy: 0.8800 - val_loss: 0.3111\n"
     ]
    }
   ],
   "source": [
    "input_shape = IMG_SIZE + (3,)\n",
    "histories = {}\n",
    "\n",
    "print(\"Training CNN...\")\n",
    "cnn_model = create_cnn_model(input_shape)\n",
    "cnn_hist = cnn_model.fit(train_ds, validation_data=val_ds, epochs=EPOCHS)\n",
    "histories['CNN'] = cnn_hist.history\n",
    "\n",
    "print(\"Training ViT...\")\n",
    "vit_model = create_vit_model(IMG_SIZE, 16, 64, 4, 128, 4)\n",
    "vit_hist = vit_model.fit(train_ds, validation_data=val_ds, epochs=EPOCHS)\n",
    "histories['ViT'] = vit_hist.history\n",
    "\n",
    "print(\"Training Swin...\")\n",
    "swin_model = create_swin_model(IMG_SIZE, 16, 64, 7, 4)\n",
    "swin_hist = swin_model.fit(train_ds, validation_data=val_ds, epochs=EPOCHS)\n",
    "histories['Swin'] = swin_hist.history"
   ]
  },
  {
   "cell_type": "markdown",
   "id": "0a6b01e9",
   "metadata": {},
   "source": [
    "## Validation Accuracy Comparison"
   ]
  },
  {
   "cell_type": "code",
   "execution_count": 16,
   "id": "6d3a88da",
   "metadata": {},
   "outputs": [
    {
     "data": {
      "image/png": "[encoded data removed]",
      "text/plain": [
       "<Figure size 1000x600 with 1 Axes>"
      ]
     },
     "metadata": {},
     "output_type": "display_data"
    }
   ],
   "source": [
    "plt.figure(figsize=(10,6))\n",
    "for name, h in histories.items():\n",
    "    plt.plot(h['val_accuracy'], label=name)\n",
    "plt.title('Validation Accuracy')\n",
    "plt.xlabel('Epoch')\n",
    "plt.ylabel('Accuracy')\n",
    "plt.legend()\n",
    "plt.grid(True)\n",
    "plt.show()"
   ]
  },
  {
   "cell_type": "markdown",
   "id": "4380cfe8",
   "metadata": {},
   "source": [
    "## Evaluation Metrics"
   ]
  },
  {
   "cell_type": "code",
   "execution_count": 18,
   "id": "ad1926b9",
   "metadata": {},
   "outputs": [
    {
     "name": "stdout",
     "output_type": "stream",
     "text": [
      "### CNN Evaluation\n",
      "\u001b[1m149/149\u001b[0m \u001b[32m━━━━━━━━━━━━━━━━━━━━\u001b[0m\u001b[37m\u001b[0m \u001b[1m12s\u001b[0m 78ms/step\n",
      "              precision    recall  f1-score   support\n",
      "\n",
      "         0.0       0.88      0.66      0.75       753\n",
      "         1.0       0.86      0.96      0.90      1630\n",
      "\n",
      "    accuracy                           0.86      2383\n",
      "   macro avg       0.87      0.81      0.83      2383\n",
      "weighted avg       0.86      0.86      0.86      2383\n",
      "\n",
      "Confusion Matrix:\n",
      "[[ 494  259]\n",
      " [  69 1561]]\n",
      "ROC AUC: 0.8888\n",
      "\n",
      "### ViT Evaluation\n",
      "\u001b[1m149/149\u001b[0m \u001b[32m━━━━━━━━━━━━━━━━━━━━\u001b[0m\u001b[37m\u001b[0m \u001b[1m9s\u001b[0m 61ms/step\n",
      "              precision    recall  f1-score   support\n",
      "\n",
      "         0.0       0.94      0.58      0.72       753\n",
      "         1.0       0.84      0.98      0.90      1630\n",
      "\n",
      "    accuracy                           0.86      2383\n",
      "   macro avg       0.89      0.78      0.81      2383\n",
      "weighted avg       0.87      0.86      0.85      2383\n",
      "\n",
      "Confusion Matrix:\n",
      "[[ 439  314]\n",
      " [  29 1601]]\n",
      "ROC AUC: 0.9281\n",
      "\n",
      "### Swin Evaluation\n",
      "\u001b[1m149/149\u001b[0m \u001b[32m━━━━━━━━━━━━━━━━━━━━\u001b[0m\u001b[37m\u001b[0m \u001b[1m10s\u001b[0m 64ms/step\n",
      "              precision    recall  f1-score   support\n",
      "\n",
      "         0.0       0.85      0.75      0.80       753\n",
      "         1.0       0.89      0.94      0.91      1630\n",
      "\n",
      "    accuracy                           0.88      2383\n",
      "   macro avg       0.87      0.85      0.86      2383\n",
      "weighted avg       0.88      0.88      0.88      2383\n",
      "\n",
      "Confusion Matrix:\n",
      "[[ 566  187]\n",
      " [  99 1531]]\n",
      "ROC AUC: 0.9207\n",
      "\n"
     ]
    }
   ],
   "source": [
    "# Gather ground truth and predictions\n",
    "y_true = np.concatenate([y.numpy() for x, y in val_ds], axis=0)\n",
    "\n",
    "for name, model in [('CNN', cnn_model), ('ViT', vit_model), ('Swin', swin_model)]:\n",
    "    print(f\"### {name} Evaluation\")\n",
    "    # Predictions\n",
    "    y_prob = model.predict(val_ds)\n",
    "    y_pred = (y_prob > 0.5).astype(int)\n",
    "    # Classification report\n",
    "    print(classification_report(y_true, y_pred))\n",
    "    # Confusion matrix\n",
    "    print(\"Confusion Matrix:\")\n",
    "    print(confusion_matrix(y_true, y_pred))\n",
    "    # ROC AUC\n",
    "    auc = roc_auc_score(y_true, y_prob)\n",
    "    print(f\"ROC AUC: {auc:.4f}\\n\")"
   ]
  }
 ],
 "metadata": {
  "language_info": {
   "name": "python"
  }
 },
 "nbformat": 4,
 "nbformat_minor": 5
}
